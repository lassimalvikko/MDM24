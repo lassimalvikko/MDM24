{
 "cells": [
  {
   "cell_type": "markdown",
   "metadata": {},
   "source": [
    "# Exercise 4.4"
   ]
  },
  {
   "cell_type": "markdown",
   "metadata": {},
   "source": [
    "## Imports"
   ]
  },
  {
   "cell_type": "code",
   "execution_count": 64,
   "metadata": {},
   "outputs": [],
   "source": [
    "import pandas as pd\n",
    "import numpy as np\n",
    "import networkx as nx\n",
    "import itertools"
   ]
  },
  {
   "cell_type": "markdown",
   "metadata": {},
   "source": [
    "## Data"
   ]
  },
  {
   "cell_type": "code",
   "execution_count": 65,
   "metadata": {},
   "outputs": [
    {
     "data": {
      "text/html": [
       "<div>\n",
       "<style scoped>\n",
       "    .dataframe tbody tr th:only-of-type {\n",
       "        vertical-align: middle;\n",
       "    }\n",
       "\n",
       "    .dataframe tbody tr th {\n",
       "        vertical-align: top;\n",
       "    }\n",
       "\n",
       "    .dataframe thead th {\n",
       "        text-align: right;\n",
       "    }\n",
       "</style>\n",
       "<table border=\"1\" class=\"dataframe\">\n",
       "  <thead>\n",
       "    <tr style=\"text-align: right;\">\n",
       "      <th></th>\n",
       "      <th>0</th>\n",
       "      <th>1</th>\n",
       "    </tr>\n",
       "  </thead>\n",
       "  <tbody>\n",
       "    <tr>\n",
       "      <th>0</th>\n",
       "      <td>11</td>\n",
       "      <td>1</td>\n",
       "    </tr>\n",
       "    <tr>\n",
       "      <th>1</th>\n",
       "      <td>15</td>\n",
       "      <td>1</td>\n",
       "    </tr>\n",
       "    <tr>\n",
       "      <th>2</th>\n",
       "      <td>16</td>\n",
       "      <td>1</td>\n",
       "    </tr>\n",
       "    <tr>\n",
       "      <th>3</th>\n",
       "      <td>41</td>\n",
       "      <td>1</td>\n",
       "    </tr>\n",
       "    <tr>\n",
       "      <th>4</th>\n",
       "      <td>43</td>\n",
       "      <td>1</td>\n",
       "    </tr>\n",
       "    <tr>\n",
       "      <th>...</th>\n",
       "      <td>...</td>\n",
       "      <td>...</td>\n",
       "    </tr>\n",
       "    <tr>\n",
       "      <th>154</th>\n",
       "      <td>58</td>\n",
       "      <td>49</td>\n",
       "    </tr>\n",
       "    <tr>\n",
       "      <th>155</th>\n",
       "      <td>52</td>\n",
       "      <td>51</td>\n",
       "    </tr>\n",
       "    <tr>\n",
       "      <th>156</th>\n",
       "      <td>56</td>\n",
       "      <td>52</td>\n",
       "    </tr>\n",
       "    <tr>\n",
       "      <th>157</th>\n",
       "      <td>62</td>\n",
       "      <td>54</td>\n",
       "    </tr>\n",
       "    <tr>\n",
       "      <th>158</th>\n",
       "      <td>58</td>\n",
       "      <td>55</td>\n",
       "    </tr>\n",
       "  </tbody>\n",
       "</table>\n",
       "<p>159 rows × 2 columns</p>\n",
       "</div>"
      ],
      "text/plain": [
       "      0   1\n",
       "0    11   1\n",
       "1    15   1\n",
       "2    16   1\n",
       "3    41   1\n",
       "4    43   1\n",
       "..   ..  ..\n",
       "154  58  49\n",
       "155  52  51\n",
       "156  56  52\n",
       "157  62  54\n",
       "158  58  55\n",
       "\n",
       "[159 rows x 2 columns]"
      ]
     },
     "metadata": {},
     "output_type": "display_data"
    },
    {
     "data": {
      "text/html": [
       "<div>\n",
       "<style scoped>\n",
       "    .dataframe tbody tr th:only-of-type {\n",
       "        vertical-align: middle;\n",
       "    }\n",
       "\n",
       "    .dataframe tbody tr th {\n",
       "        vertical-align: top;\n",
       "    }\n",
       "\n",
       "    .dataframe thead th {\n",
       "        text-align: right;\n",
       "    }\n",
       "</style>\n",
       "<table border=\"1\" class=\"dataframe\">\n",
       "  <thead>\n",
       "    <tr style=\"text-align: right;\">\n",
       "      <th></th>\n",
       "      <th>0</th>\n",
       "      <th>1</th>\n",
       "    </tr>\n",
       "  </thead>\n",
       "  <tbody>\n",
       "    <tr>\n",
       "      <th>0</th>\n",
       "      <td>Beak</td>\n",
       "      <td>M</td>\n",
       "    </tr>\n",
       "    <tr>\n",
       "      <th>1</th>\n",
       "      <td>Beescratch</td>\n",
       "      <td>M</td>\n",
       "    </tr>\n",
       "    <tr>\n",
       "      <th>2</th>\n",
       "      <td>Bumper</td>\n",
       "      <td>M</td>\n",
       "    </tr>\n",
       "    <tr>\n",
       "      <th>3</th>\n",
       "      <td>CCL</td>\n",
       "      <td>F</td>\n",
       "    </tr>\n",
       "    <tr>\n",
       "      <th>4</th>\n",
       "      <td>Cross</td>\n",
       "      <td>M</td>\n",
       "    </tr>\n",
       "    <tr>\n",
       "      <th>...</th>\n",
       "      <td>...</td>\n",
       "      <td>...</td>\n",
       "    </tr>\n",
       "    <tr>\n",
       "      <th>57</th>\n",
       "      <td>Web</td>\n",
       "      <td>M</td>\n",
       "    </tr>\n",
       "    <tr>\n",
       "      <th>58</th>\n",
       "      <td>Whitetip</td>\n",
       "      <td>F</td>\n",
       "    </tr>\n",
       "    <tr>\n",
       "      <th>59</th>\n",
       "      <td>Zap</td>\n",
       "      <td>U</td>\n",
       "    </tr>\n",
       "    <tr>\n",
       "      <th>60</th>\n",
       "      <td>Zig</td>\n",
       "      <td>M</td>\n",
       "    </tr>\n",
       "    <tr>\n",
       "      <th>61</th>\n",
       "      <td>Zipfel</td>\n",
       "      <td>M</td>\n",
       "    </tr>\n",
       "  </tbody>\n",
       "</table>\n",
       "<p>62 rows × 2 columns</p>\n",
       "</div>"
      ],
      "text/plain": [
       "             0  1\n",
       "0         Beak  M\n",
       "1   Beescratch  M\n",
       "2       Bumper  M\n",
       "3          CCL  F\n",
       "4        Cross  M\n",
       "..         ... ..\n",
       "57         Web  M\n",
       "58    Whitetip  F\n",
       "59         Zap  U\n",
       "60         Zig  M\n",
       "61      Zipfel  M\n",
       "\n",
       "[62 rows x 2 columns]"
      ]
     },
     "metadata": {},
     "output_type": "display_data"
    }
   ],
   "source": [
    "dolphin_conn = pd.read_csv('data/dolphins.txt', sep=\" \", header=None, skiprows=1)\n",
    "dolphin_info = pd.read_csv('data/dolphininfo.txt', sep=\" \", header=None)\n",
    "display(dolphin_conn)\n",
    "display(dolphin_info)"
   ]
  },
  {
   "cell_type": "markdown",
   "metadata": {},
   "source": [
    "## Networkx graph"
   ]
  },
  {
   "cell_type": "code",
   "execution_count": 66,
   "metadata": {},
   "outputs": [],
   "source": [
    "dolphin_list = [(index+1, {'name': row[0], 'sex': row[1]}) for index, row in dolphin_info.iterrows()]\n",
    "edge_list = [(row[0], row[1]) for _, row in dolphin_conn.iterrows()]"
   ]
  },
  {
   "cell_type": "code",
   "execution_count": 67,
   "metadata": {},
   "outputs": [
    {
     "data": {
      "image/png": "[encoded data removed]",
      "text/plain": [
       "<Figure size 640x480 with 1 Axes>"
      ]
     },
     "metadata": {},
     "output_type": "display_data"
    }
   ],
   "source": [
    "G = nx.Graph()\n",
    "G.add_nodes_from(dolphin_list)\n",
    "G.add_edges_from(edge_list)\n",
    "nx.draw_networkx(G, with_labels=True)"
   ]
  },
  {
   "cell_type": "markdown",
   "metadata": {},
   "source": [
    "## Algorithm"
   ]
  },
  {
   "cell_type": "code",
   "execution_count": 68,
   "metadata": {},
   "outputs": [],
   "source": [
    "def dfs(dolphins, alpha, size, improved, maximal):\n",
    "  alpha_cliques = []\n",
    "  visited = set()\n",
    "  count = 0 # Number of candidate sets traversed\n",
    "\n",
    "  if improved:\n",
    "    dolphin_list = sorted(list(dolphins), key=lambda x: dolphins.degree(x))\n",
    "  else:\n",
    "    dolphin_list = list(dolphins)\n",
    "\n",
    "  for dolphin in dolphin_list:\n",
    "    count += dfs_rec(dolphins, [dolphin], visited, alpha_cliques, alpha, size, improved)\n",
    "  \n",
    "  if maximal:\n",
    "    # Inspiration from https://stackoverflow.com/questions/24075347/how-find-a-maximal-set-or-a-superset-from-a-list-of-sets-maximal-set-is-the-set\n",
    "    lengths = set([len(i) for i in alpha_cliques])\n",
    "    grouped = {l: [set(s) for s in alpha_cliques if l == len(s)] for l in lengths}\n",
    "    max_cliques = []\n",
    "    for l in lengths:\n",
    "      max_cliques.extend([ list(s) for s in grouped[l] if not any([ other_s.intersection(s)==s for other_l in lengths if other_l !=l for other_s in grouped[other_l] ])])\n",
    "    alpha_cliques = max_cliques\n",
    "  \n",
    "  return alpha_cliques, count\n",
    "\n",
    "\n",
    "def dfs_rec(dolphins, dolphin_set, visited, alpha_cliques, alpha, size, improved):\n",
    "  count = 1 # Update number of candidate sets traversed\n",
    "  visited.add(frozenset(dolphin_set))\n",
    "\n",
    "  # Calculate f(S)\n",
    "  S = dolphins.subgraph(dolphin_set)\n",
    "  min_deg = S.degree(dolphin_set[0])\n",
    "  for d in dolphin_set:\n",
    "    curr_deg = S.degree(d)\n",
    "    if curr_deg < min_deg:\n",
    "      min_deg = curr_deg\n",
    "\n",
    "  f_S = min_deg/max(len(dolphin_set)-1, 1)\n",
    "\n",
    "  # Check if S is an alpha-clique and add to result\n",
    "  if f_S >= alpha and len(dolphin_set) > size:\n",
    "    alpha_cliques.append(dolphin_set)\n",
    "\n",
    "  # Prune based on Theorem\n",
    "  stop = False\n",
    "  for d in dolphin_set:\n",
    "    thresh = 1 - (dolphins.degree(d)*(1-alpha))/(max(len(dolphin_set)-1, 1)*alpha)\n",
    "    if f_S < thresh:\n",
    "      stop = True\n",
    "      break\n",
    "\n",
    "  # If pruning condition is false move onto neighbours of current clique\n",
    "  if not stop:\n",
    "    if improved:\n",
    "      dset = sorted(dolphin_set, key=lambda x: dolphins.degree(x))\n",
    "    else:\n",
    "      dset = dolphin_set\n",
    "    for d in dset: # Iterate through nodes in S\n",
    "      if improved:\n",
    "        neighbs = sorted(dolphins.neighbors(d), key=lambda x: dolphins.degree(x))\n",
    "      else:\n",
    "        neighbs = dolphins.neighbors(d)\n",
    "      for neighbour in neighbs:\n",
    "        new_dolphin_set = [*dolphin_set, neighbour] # Set with new dolphin\n",
    "        # Check that current node is not already in S and that new set is not already visited\n",
    "        if neighbour not in dolphin_set and set(new_dolphin_set) not in visited:\n",
    "          count += dfs_rec(dolphins, new_dolphin_set, visited, alpha_cliques, alpha, size, improved)\n",
    "\n",
    "  return count\n"
   ]
  },
  {
   "cell_type": "markdown",
   "metadata": {},
   "source": [
    "## Toyset testing"
   ]
  },
  {
   "cell_type": "markdown",
   "metadata": {},
   "source": [
    "### Download data"
   ]
  },
  {
   "cell_type": "code",
   "execution_count": 69,
   "metadata": {},
   "outputs": [
    {
     "data": {
      "text/html": [
       "<div>\n",
       "<style scoped>\n",
       "    .dataframe tbody tr th:only-of-type {\n",
       "        vertical-align: middle;\n",
       "    }\n",
       "\n",
       "    .dataframe tbody tr th {\n",
       "        vertical-align: top;\n",
       "    }\n",
       "\n",
       "    .dataframe thead th {\n",
       "        text-align: right;\n",
       "    }\n",
       "</style>\n",
       "<table border=\"1\" class=\"dataframe\">\n",
       "  <thead>\n",
       "    <tr style=\"text-align: right;\">\n",
       "      <th></th>\n",
       "      <th>0</th>\n",
       "      <th>1</th>\n",
       "    </tr>\n",
       "  </thead>\n",
       "  <tbody>\n",
       "    <tr>\n",
       "      <th>0</th>\n",
       "      <td>1</td>\n",
       "      <td>2</td>\n",
       "    </tr>\n",
       "    <tr>\n",
       "      <th>1</th>\n",
       "      <td>1</td>\n",
       "      <td>4</td>\n",
       "    </tr>\n",
       "    <tr>\n",
       "      <th>2</th>\n",
       "      <td>2</td>\n",
       "      <td>3</td>\n",
       "    </tr>\n",
       "    <tr>\n",
       "      <th>3</th>\n",
       "      <td>2</td>\n",
       "      <td>4</td>\n",
       "    </tr>\n",
       "    <tr>\n",
       "      <th>4</th>\n",
       "      <td>3</td>\n",
       "      <td>4</td>\n",
       "    </tr>\n",
       "    <tr>\n",
       "      <th>5</th>\n",
       "      <td>3</td>\n",
       "      <td>5</td>\n",
       "    </tr>\n",
       "  </tbody>\n",
       "</table>\n",
       "</div>"
      ],
      "text/plain": [
       "   0  1\n",
       "0  1  2\n",
       "1  1  4\n",
       "2  2  3\n",
       "3  2  4\n",
       "4  3  4\n",
       "5  3  5"
      ]
     },
     "metadata": {},
     "output_type": "display_data"
    }
   ],
   "source": [
    "toyset = pd.read_csv('data/toyset.txt', sep=\" \", header=None, skiprows=1)\n",
    "toy_edge_list = [(row[0], row[1]) for _, row in toyset.iterrows()]\n",
    "display(toyset)"
   ]
  },
  {
   "cell_type": "code",
   "execution_count": 70,
   "metadata": {},
   "outputs": [
    {
     "data": {
      "image/png": "[encoded data removed]",
      "text/plain": [
       "<Figure size 640x480 with 1 Axes>"
      ]
     },
     "metadata": {},
     "output_type": "display_data"
    }
   ],
   "source": [
    "G_test = nx.Graph()\n",
    "G_test.add_edges_from(toy_edge_list)\n",
    "nx.draw_networkx(G_test, with_labels=True)"
   ]
  },
  {
   "cell_type": "code",
   "execution_count": 71,
   "metadata": {},
   "outputs": [
    {
     "name": "stdout",
     "output_type": "stream",
     "text": [
      "Number of toy example alpha-cliques: 3\n",
      "The cliques:\n",
      "[1, 2, 4]\n",
      "[1, 2, 4, 3]\n",
      "[2, 3, 4]\n"
     ]
    }
   ],
   "source": [
    "toy_res = dfs(G_test, 0.6, 2, False, False)\n",
    "print(f\"Number of toy example alpha-cliques: {len(toy_res[0])}\")\n",
    "print(\"The cliques:\")\n",
    "for i in toy_res[0]:\n",
    "  print(i)"
   ]
  },
  {
   "cell_type": "markdown",
   "metadata": {},
   "source": [
    "Result matches toysetresults.txt."
   ]
  },
  {
   "cell_type": "markdown",
   "metadata": {},
   "source": [
    "## Improved algorithm comparison"
   ]
  },
  {
   "cell_type": "code",
   "execution_count": 72,
   "metadata": {},
   "outputs": [
    {
     "name": "stdout",
     "output_type": "stream",
     "text": [
      "\n",
      "Alpha=0.8\n",
      "Number of tested candidates with basic algorithm: 6977\n",
      "Number of tested candidates with improved algorithm: 6977\n",
      "\n",
      "Alpha=0.7\n",
      "Number of tested candidates with basic algorithm: 45010\n",
      "Number of tested candidates with improved algorithm: 45010\n",
      "\n",
      "Alpha=0.6\n",
      "Number of tested candidates with basic algorithm: 369845\n",
      "Number of tested candidates with improved algorithm: 369845\n",
      "\n",
      "Alpha=0.5\n",
      "Number of tested candidates with basic algorithm: 3346675\n",
      "Number of tested candidates with improved algorithm: 3346675\n"
     ]
    }
   ],
   "source": [
    "for i in [0.8, 0.7, 0.6, 0.5]:\n",
    "  print(f\"\\nAlpha={i}\")\n",
    "  res_basic = dfs(G, i, 2, False, False)\n",
    "  res_improved = dfs(G, i, 2, True, False)\n",
    "  print(f\"Number of tested candidates with basic algorithm: {res_basic[1]}\")\n",
    "  print(f\"Number of tested candidates with improved algorithm: {res_improved[1]}\")"
   ]
  },
  {
   "cell_type": "markdown",
   "metadata": {},
   "source": [
    "## Maximal alpha cliques"
   ]
  },
  {
   "cell_type": "code",
   "execution_count": 73,
   "metadata": {},
   "outputs": [
    {
     "name": "stdout",
     "output_type": "stream",
     "text": [
      "Number of maximal alpha-cliques found: 4\n",
      "The cliques:\n",
      "[7, 10, 14, 18, 58]\n",
      "[7, 42, 10, 14, 55, 58]\n",
      "[34, 38, 39, 44, 15, 17]\n",
      "[46, 19, 52, 22, 25, 30]\n",
      "\n",
      "Gender distribution:\n",
      "['M', 'M', 'M', 'M', 'M']\n",
      "['M', 'M', 'M', 'M', 'M', 'M']\n",
      "['F', 'F', 'F', 'F', 'F', 'F']\n",
      "['M', 'M', 'F', 'M', 'M', 'M']\n",
      "\n",
      "Names:\n",
      "['DN21', 'Feather', 'Gallatin', 'Jet', 'Web']\n",
      "['DN21', 'SN90', 'Feather', 'Gallatin', 'Upbang', 'Web']\n",
      "['Scabs', 'SN4', 'SN63', 'Stripes', 'Grin', 'Hook']\n",
      "['Topless', 'Jonah', 'Trigger', 'MN105', 'MN83', 'Patchback']\n"
     ]
    }
   ],
   "source": [
    "max_alpha_res = dfs(G, 0.8, 4, True, True)\n",
    "print(f\"Number of maximal alpha-cliques found: {len(max_alpha_res[0])}\")\n",
    "print(\"The cliques:\")\n",
    "for i in max_alpha_res[0]:\n",
    "  print(i)\n",
    "\n",
    "print(\"\\nGender distribution:\")\n",
    "for i in max_alpha_res[0]:\n",
    "  print([G.nodes[j]['sex'] for j in i])\n",
    "\n",
    "print(\"\\nNames:\")\n",
    "for i in max_alpha_res[0]:\n",
    "  print([G.nodes[j]['name'] for j in i])"
   ]
  },
  {
   "cell_type": "code",
   "execution_count": null,
   "metadata": {},
   "outputs": [],
   "source": []
  }
 ],
 "metadata": {
  "kernelspec": {
   "display_name": "Data_mining",
   "language": "python",
   "name": "python3"
  },
  "language_info": {
   "codemirror_mode": {
    "name": "ipython",
    "version": 3
   },
   "file_extension": ".py",
   "mimetype": "text/x-python",
   "name": "python",
   "nbconvert_exporter": "python",
   "pygments_lexer": "ipython3",
   "version": "3.12.2"
  }
 },
 "nbformat": 4,
 "nbformat_minor": 2
}
