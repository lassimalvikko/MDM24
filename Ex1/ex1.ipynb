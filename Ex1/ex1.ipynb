{
 "cells": [
  {
   "cell_type": "code",
   "execution_count": 1,
   "metadata": {},
   "outputs": [],
   "source": [
    "import pandas as pd\n",
    "import numpy as np\n",
    "import matplotlib as plt"
   ]
  },
  {
   "cell_type": "code",
   "execution_count": 3,
   "metadata": {},
   "outputs": [],
   "source": [
    "k = [2, 3, 4, 5, *range(10, 101, 10)]\n",
    "n = 100\n",
    "q = 100\n",
    "p = [0.5, 1, 2, 5, None] # None instead of inf to calculate Chebyshev distance with Lp_norm()"
   ]
  },
  {
   "cell_type": "code",
   "execution_count": 6,
   "metadata": {},
   "outputs": [],
   "source": [
    "def gen_data(k, n, q):\n",
    "  pts = np.random.uniform(0, 1, size=(q, n, k))\n",
    "  og = np.zeros(k)\n",
    "  for i in range(0, q):\n",
    "    for j in range(0, n):\n",
    "      while np.allclose(pts[i][j], og):\n",
    "        pts[i][j] = np.random.uniform(0, 1, size=k)\n",
    "  return pts\n",
    "\n",
    "def Lp_norm(p, a, b):\n",
    "  if (p == None): # Chebyshev distance\n",
    "    return max(abs(a-b))\n",
    "  return (np.sum((abs(a - b))**p))**(1/p)"
   ]
  },
  {
   "cell_type": "code",
   "execution_count": 7,
   "metadata": {},
   "outputs": [
    {
     "data": {
      "text/plain": [
       "array([[[0.99969204, 0.29254767],\n",
       "        [0.68929542, 0.25765961],\n",
       "        [0.19746802, 0.83685733]],\n",
       "\n",
       "       [[0.78991323, 0.67366881],\n",
       "        [0.18922409, 0.56575203],\n",
       "        [0.92869897, 0.69021976]],\n",
       "\n",
       "       [[0.36621432, 0.70505056],\n",
       "        [0.68649432, 0.86032842],\n",
       "        [0.43328992, 0.95013311]],\n",
       "\n",
       "       [[0.9598486 , 0.02111863],\n",
       "        [0.50214624, 0.40076504],\n",
       "        [0.17541027, 0.65226918]]])"
      ]
     },
     "execution_count": 7,
     "metadata": {},
     "output_type": "execute_result"
    }
   ],
   "source": [
    "gen_data(2, 3, 4)"
   ]
  },
  {
   "cell_type": "code",
   "execution_count": null,
   "metadata": {},
   "outputs": [],
   "source": []
  }
 ],
 "metadata": {
  "kernelspec": {
   "display_name": "Data_mining",
   "language": "python",
   "name": "python3"
  },
  "language_info": {
   "codemirror_mode": {
    "name": "ipython",
    "version": 3
   },
   "file_extension": ".py",
   "mimetype": "text/x-python",
   "name": "python",
   "nbconvert_exporter": "python",
   "pygments_lexer": "ipython3",
   "version": "3.12.2"
  }
 },
 "nbformat": 4,
 "nbformat_minor": 2
}
